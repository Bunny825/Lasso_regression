{
  "nbformat": 4,
  "nbformat_minor": 0,
  "metadata": {
    "colab": {
      "provenance": [],
      "authorship_tag": "ABX9TyMeOCPqO1FAyO8SagxtHji8",
      "include_colab_link": true
    },
    "kernelspec": {
      "name": "python3",
      "display_name": "Python 3"
    },
    "language_info": {
      "name": "python"
    }
  },
  "cells": [
    {
      "cell_type": "markdown",
      "metadata": {
        "id": "view-in-github",
        "colab_type": "text"
      },
      "source": [
        "<a href=\"https://colab.research.google.com/github/Bunny825/Lasso_regression/blob/main/Untitled10.ipynb\" target=\"_parent\"><img src=\"https://colab.research.google.com/assets/colab-badge.svg\" alt=\"Open In Colab\"/></a>"
      ]
    },
    {
      "cell_type": "code",
      "execution_count": 1,
      "metadata": {
        "id": "CDVtCSLjy4Ut"
      },
      "outputs": [],
      "source": [
        "import numpy as np\n"
      ]
    },
    {
      "cell_type": "code",
      "source": [
        "class Lasso_regression:\n",
        "  def __init__(self,learning_rate,no_of_iter,lamb):\n",
        "    self.learning_rate=learning_rate\n",
        "    self.no_of_iter=no_of_iter\n",
        "    self.lamb=lamb\n",
        "\n",
        "\n",
        "  def fit(self,x,y):\n",
        "    self.m,self.n=x.shape\n",
        "    self.w=np.zeros(self.n)\n",
        "    self.b=0\n",
        "    self.x=x\n",
        "    self.y=y\n",
        "\n",
        "    for i in range(self.no_of_iter):\n",
        "      self.update_weights()\n",
        "\n",
        "\n",
        "  def update_weights(self):\n",
        "    y_prediction=self.predict(self.x)\n",
        "    dw=np.zeros(self.n)\n",
        "    for i in range(self.n):\n",
        "      if self.w[i]>0:\n",
        "        dw[i]=(-(2*self.x[:,i]).dot(self.y-y_prediction))+self.lamb/self.m\n",
        "      else:\n",
        "        dw[i]=(-(2*self.x[:,i]).dot(self.y-y_prediction))-self.lamb/self.m\n",
        "\n",
        "      db=-2*np.sum(self.y-y_prediction)/self.m\n",
        "      self.w[i]=self.w[i]-self.learning_rate*dw[i]\n",
        "      self.b=self.b-self.learning_rate*db\n",
        "\n",
        "\n",
        "    def predict(self,x):\n",
        "      return x.dot(self.w)+self.b"
      ],
      "metadata": {
        "id": "BGIKm4evzkXs"
      },
      "execution_count": 2,
      "outputs": []
    },
    {
      "cell_type": "code",
      "source": [],
      "metadata": {
        "id": "7CKRB0Jo13Lv"
      },
      "execution_count": null,
      "outputs": []
    }
  ]
}